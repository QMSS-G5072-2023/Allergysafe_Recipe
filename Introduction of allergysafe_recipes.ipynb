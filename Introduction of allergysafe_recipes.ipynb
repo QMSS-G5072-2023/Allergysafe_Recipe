{
 "cells": [
  {
   "cell_type": "code",
   "execution_count": 5,
   "id": "2ff6b0cc",
   "metadata": {},
   "outputs": [
    {
     "name": "stdout",
     "output_type": "stream",
     "text": [
      "Looking in indexes: https://test.pypi.org/simple/"
     ]
    },
    {
     "name": "stderr",
     "output_type": "stream",
     "text": [
      "DEPRECATION: pyodbc 4.0.0-unsupported has a non-standard version number. pip 24.0 will enforce this behaviour change. A possible replacement is to upgrade to a newer version of pyodbc or contact the author to suggest that they release a version with a conforming version number. Discussion can be found at https://github.com/pypa/pip/issues/12063\n"
     ]
    },
    {
     "name": "stdout",
     "output_type": "stream",
     "text": [
      "\n",
      "Requirement already satisfied: allergysafe-recipes in e:\\allergysafe_recipes\\allergysafe_recipes (0.1.0)\n"
     ]
    }
   ],
   "source": [
    "# The package has been uploaded to TestPypi\n",
    "# To get start, use the code to install the \"allergysafe_recipes\" package\n",
    "\n",
    "!pip install -i https://test.pypi.org/simple/ allergysafe-recipes"
   ]
  },
  {
   "cell_type": "markdown",
   "id": "ebd86e03",
   "metadata": {},
   "source": [
    "# A vignette on how to use the functions in \"allergysafe_recipes\" package\n",
    "## Created by Zheyi Zeng"
   ]
  },
  {
   "cell_type": "markdown",
   "id": "912bae22",
   "metadata": {},
   "source": [
    "## Search Recipes function"
   ]
  },
  {
   "cell_type": "markdown",
   "id": "98272ba8",
   "metadata": {},
   "source": [
    "The search_recipes function allows users to search for recipes based on specific criteria, such as ingredients and dietary preferences. In the example, we demonstrate how to use this function to find pasta recipes while excluding certain ingredients like \"cheese.\""
   ]
  },
  {
   "cell_type": "code",
   "execution_count": 6,
   "id": "2dfc744f",
   "metadata": {},
   "outputs": [],
   "source": [
    "from recipes_search.recipes_search import search_recipes"
   ]
  },
  {
   "cell_type": "code",
   "execution_count": 7,
   "id": "714594eb",
   "metadata": {},
   "outputs": [
    {
     "name": "stdout",
     "output_type": "stream",
     "text": [
      "Search Results:\n",
      "Title: Pasta On The Border\n",
      "ID: 654857\n",
      "Image: https://spoonacular.com/recipeImages/654857-312x231.jpg\n",
      "\n",
      "Title: Pasta With Chickpeas and Kale\n",
      "ID: 654905\n",
      "Image: https://spoonacular.com/recipeImages/654905-312x231.jpg\n",
      "\n",
      "Title: Pasta With Chicken and Mushrooms\n",
      "ID: 654913\n",
      "Image: https://spoonacular.com/recipeImages/654913-312x231.jpg\n",
      "\n",
      "Title: Pasta with Peas and Italian Sausage\n",
      "ID: 654935\n",
      "Image: https://spoonacular.com/recipeImages/654935-312x231.jpg\n",
      "\n",
      "Title: Pasta With Cream Sauce and Mushrooms\n",
      "ID: 654911\n",
      "Image: https://spoonacular.com/recipeImages/654911-312x231.jpg\n",
      "\n",
      "Title: Thai Pasta Salad\n",
      "ID: 663126\n",
      "Image: https://spoonacular.com/recipeImages/663126-312x231.jpg\n",
      "\n",
      "Title: Lemon Pasta With Salmon\n",
      "ID: 649721\n",
      "Image: https://spoonacular.com/recipeImages/649721-312x231.jpg\n",
      "\n",
      "Title: Shrimp pasta with white wine tomato cream sauce\n",
      "ID: 659988\n",
      "Image: https://spoonacular.com/recipeImages/659988-312x231.jpg\n",
      "\n",
      "Title: Chicken Pasta With Anchovy Rosemary Sauce\n",
      "ID: 638245\n",
      "Image: https://spoonacular.com/recipeImages/638245-312x231.jpg\n",
      "\n",
      "Title: Spaghetti Pasta Salad with Roasted Vegetables and Prosciutto\n",
      "ID: 1096026\n",
      "Image: https://spoonacular.com/recipeImages/1096026-312x231.jpg\n",
      "\n",
      "\n"
     ]
    }
   ],
   "source": [
    "api_key = \"b76bf0d048624914b6be0b8c3c3455f1\"  # User's own API key\n",
    "# For instance,if users would like to get some recipes but they're allergic to cheese. \n",
    "\n",
    "# Example usage of search_recipes\n",
    "recipes = search_recipes(api_key, 'pasta', exclude_ingredients='cheese')\n",
    "#exclude_ingredients (str, optional): A list of ingredients to exclude from the search results. \n",
    "# Multiple ingredients can be linked with the \"+\" symbol.\n",
    "\n",
    "print(recipes)"
   ]
  },
  {
   "cell_type": "markdown",
   "id": "1aab176e",
   "metadata": {},
   "source": [
    "### And after getting the recipe they interested in, users can learn the instructions, the nutrition and the cost of the dish using the followng functions:"
   ]
  },
  {
   "cell_type": "markdown",
   "id": "be1cc9bb",
   "metadata": {},
   "source": [
    "## To get instructions"
   ]
  },
  {
   "cell_type": "code",
   "execution_count": 9,
   "id": "a5b6c7e0",
   "metadata": {},
   "outputs": [],
   "source": [
    "from recipes_search.instructions import get_recipe_instructions"
   ]
  },
  {
   "cell_type": "markdown",
   "id": "37c27d10",
   "metadata": {},
   "source": [
    "For instance, if user is interested in the recipe of \"Spaghetti Pasta Salad with Roasted Vegetables and Prosciutto\" which was shown when searching pasta without cheese.\n",
    "The recipe ID was shown as '1096026'. \n",
    "\n",
    "To get the instructions of this recipe, we can use the get_recipe_instructions function:"
   ]
  },
  {
   "cell_type": "code",
   "execution_count": 14,
   "id": "ad3a309c",
   "metadata": {},
   "outputs": [
    {
     "name": "stdout",
     "output_type": "stream",
     "text": [
      "Instructions:\n",
      "1. <ol><li>Place garlic, anchovies (with their oil), rosemary and lemon juice in a food processor.\n",
      "2. Blend until fairly smooth.\n",
      "3. Add lemon juice followed by olive oil and continue to blend until smooth.\n",
      "4. Cover and set aside.\n",
      "5. </li><li>Season chicken with red pepper flakes, poultry seasoning and a pinch of kosher salt.\n",
      "6. Set aside.\n",
      "7. </li><li>Start a pot of water boiling for the pasta.\n",
      "8. Add a pinch of salt.\n",
      "9. Once boiling, cook pasta to desired doneness, approximately 6-9 minutes for al dente.\n",
      "10. </li><li>As pasta cooks, drizzle a bit of olive oil in a wide pan.\n",
      "11. When hot, add the chicken and cook until no longer pink inside, approximately 5-7 minutes.\n",
      "12. </li><li>Drain pasta and drop the noodles directly into the pan with the chicken.\n",
      "13. Add anchovy sauce and toss to coat.\n",
      "14. Sprinkle with fresh parsley if desired.\n",
      "15. </li></ol>.\n",
      "\n"
     ]
    }
   ],
   "source": [
    "recipe_id = '638245'\n",
    "print(get_recipe_instructions(api_key, recipe_id))"
   ]
  },
  {
   "cell_type": "markdown",
   "id": "a6d46e41",
   "metadata": {},
   "source": [
    "## To get price breakdown for the recipe"
   ]
  },
  {
   "cell_type": "code",
   "execution_count": 11,
   "id": "63a461ce",
   "metadata": {},
   "outputs": [],
   "source": [
    "from recipes_search.pricing import get_recipe_price_breakdown"
   ]
  },
  {
   "cell_type": "code",
   "execution_count": 15,
   "id": "90ce51e8",
   "metadata": {},
   "outputs": [
    {
     "name": "stdout",
     "output_type": "stream",
     "text": [
      "Price Breakdown:\n",
      "- anchovies (56.699 g / 2.0 ounces): $202.50\n",
      "- anchovies (56.699 g / 2.0 ounces): $202.50\n",
      "- boneless chicken breast (1.0  / 1.0 ): $200.39\n",
      "- fresh rosemary (4.0 Tbsps / 4.0 Tbsps): $100.00\n",
      "- garlic (1.0 large clove / 1.0 large clove): $6.67\n",
      "- lemon (juice) (0.5  / 0.5 ): $10.17\n",
      "- olive oil (3.0 Tbsps / 3.0 Tbsps): $50.03\n",
      "- poultry seasoning (1.0 Tbsp / 1.0 Tbsp): $13.86\n",
      "- red pepper flakes (0.5 tsps / 0.5 tsps): $5.18\n",
      "- spaghetti (226.796 g / 0.5 pound): $48.60\n",
      "\n",
      "Total Cost: $839.88\n",
      "Cost Per Serving: $209.97\n"
     ]
    }
   ],
   "source": [
    "# To get the estimate cost of the recipe, users can use the get_recipe_price_breakdown function\n",
    "\n",
    "print(get_recipe_price_breakdown(api_key, recipe_id))"
   ]
  },
  {
   "cell_type": "markdown",
   "id": "b7a4b7e4",
   "metadata": {},
   "source": [
    "## To get nutrition information"
   ]
  },
  {
   "cell_type": "code",
   "execution_count": 16,
   "id": "76eaed80",
   "metadata": {},
   "outputs": [],
   "source": [
    "from recipes_search.nutrition import get_recipe_nutrition"
   ]
  },
  {
   "cell_type": "code",
   "execution_count": 17,
   "id": "7e60fd73",
   "metadata": {},
   "outputs": [
    {
     "data": {
      "text/plain": [
       "'Calories: 413\\nCarbohydrates: 44g\\nFat: 14g\\nProtein: 25g\\n\\nDetailed Nutrients:\\nCalories: 413.06kcal (20.65% of daily needs)\\nFat: 14.43g (22.2% of daily needs)\\nSaturated Fat: 2.39g (14.92% of daily needs)\\nCarbohydrates: 44.04g (14.68% of daily needs)\\nNet Carbohydrates: 41.72g (15.17% of daily needs)\\nSugar: 1.66g (1.85% of daily needs)\\nCholesterol: 53.17mg (17.72% of daily needs)\\nSodium: 297.48mg (12.93% of daily needs)\\nProtein: 25.41g (50.83% of daily needs)\\nSelenium: 64.5µg (92.14% of daily needs)\\nVitamin B3: 10.92mg (54.59% of daily needs)\\nManganese: 0.65mg (32.69% of daily needs)\\nVitamin B6: 0.58mg (29.02% of daily needs)\\nPhosphorus: 280.37mg (28.04% of daily needs)\\nMagnesium: 61.21mg (15.3% of daily needs)\\nVitamin K: 14.85µg (14.14% of daily needs)\\nIron: 2.47mg (13.74% of daily needs)\\nPotassium: 476.16mg (13.6% of daily needs)\\nVitamin E: 1.96mg (13.05% of daily needs)\\nCopper: 0.26mg (12.94% of daily needs)\\nVitamin B5: 1.26mg (12.6% of daily needs)\\nZinc: 1.69mg (11.24% of daily needs)\\nVitamin B2: 0.17mg (10.1% of daily needs)\\nFiber: 2.32g (9.29% of daily needs)\\nCalcium: 75.34mg (7.53% of daily needs)\\nVitamin B1: 0.11mg (7.28% of daily needs)\\nFolate: 19.42µg (4.85% of daily needs)\\nVitamin B12: 0.29µg (4.81% of daily needs)\\nVitamin A: 190.34IU (3.81% of daily needs)\\nVitamin C: 2.92mg (3.54% of daily needs)\\n'"
      ]
     },
     "execution_count": 17,
     "metadata": {},
     "output_type": "execute_result"
    }
   ],
   "source": [
    "# By using the get_recipe_nutrition function,\n",
    "# user can get detailed information of the calories, fat, protein and so on\n",
    "\n",
    "get_recipe_nutrition(api_key, recipe_id)"
   ]
  },
  {
   "cell_type": "markdown",
   "id": "c9c63d62",
   "metadata": {},
   "source": [
    "## Customized Meal Plan"
   ]
  },
  {
   "cell_type": "markdown",
   "id": "3a92d5f1",
   "metadata": {},
   "source": [
    "The Meal Planner is a powerful feature within the \"Allergy Safe Recipes\" package that simplifies the process of creating customized meal plans tailored to individual dietary preferences and restrictions. Whether you're following a specific diet, managing food allergies, or simply looking to plan your meals more efficiently, the Meal Planner has you covered.\n",
    "\n",
    "It is a powerful function to help draw the meal plan for a day and it is also useful when you have no idea about the meal today.\n",
    "By clicking the recipe url shown in the return result, user can get recipe instructions can the ingredients list."
   ]
  },
  {
   "cell_type": "code",
   "execution_count": 20,
   "id": "277fe810",
   "metadata": {},
   "outputs": [
    {
     "name": "stdout",
     "output_type": "stream",
     "text": [
      "Your Meal Plan for the Day:\n",
      "============================\n",
      "Title: Blueberry, Chocolate & Cocao Superfood Pancakes - Gluten-Free/Paleo/Vegan\n",
      " - Ready in: 30 minutes\n",
      " - Servings: 2\n",
      " - Recipe URL: https://spoonacular.com/blueberry-chocolate-cocao-superfood-pancakes-gluten-free-paleo-vegan-1100990\n",
      "\n",
      "Title: Light and Tasty Tomato Basil Mozzarella Pasta for a Hot Summer Evening\n",
      " - Ready in: 25 minutes\n",
      " - Servings: 2\n",
      " - Recipe URL: https://spoonacular.com/light-and-tasty-tomato-basil-mozzarella-pasta-for-a-hot-summer-evening-1697625\n",
      "\n",
      "Title: Italian Tomato and Mozzarella Caprese\n",
      " - Ready in: 45 minutes\n",
      " - Servings: 4\n",
      " - Recipe URL: https://spoonacular.com/italian-tomato-and-mozzarella-caprese-648275\n",
      "\n",
      "Nutritional Summary for the Day:\n",
      "================================\n",
      "Calories: 1999.58\n",
      "Protein: 74.21 g\n",
      "Fat: 97.37 g\n",
      "Carbohydrates: 214.04 g\n"
     ]
    }
   ],
   "source": [
    "# usage example\n",
    "from recipes_search.meal_planning import MealPlannerAPI\n",
    "from recipes_search.meal_planning import display_meal_plan\n",
    "\n",
    "# Initialize the MealPlannerAPI with your Spoonacular API key\n",
    "api_key = 'b76bf0d048624914b6be0b8c3c3455f1'\n",
    "meal_planner_api = MealPlannerAPI(api_key)\n",
    "\n",
    "# To generate a customized meal plan, the API requires user to input username and hash, which need to be retrived by connecting the user center\n",
    "# Connect a user\n",
    "user_info = {\n",
    "    \"username\": \"user_name\",\n",
    "    \"firstName\": \"first_name\",\n",
    "    \"lastName\": \"last_name\",\n",
    "    \"email\": \"email@example.com\"\n",
    "}\n",
    "user_data = meal_planner_api.connect_user(user_info)\n",
    "\n",
    "# Generate a meal plan for the connected user with specific request to the diet, target calories and exclude ingredients                                                                                                                                                                                                                                                                                                                                                                                                                                                                                                                                                                                                                                                                                                                                                                                                                                                                                                                                                                                                                                                                                                                                                                                                                                                                                                                                                                                                                                                                                                                                                                                                                                                                                                                                                                                                                                                                                                                                                                                                                                            \n",
    "meal_plan = meal_planner_api.generate_meal_plan(\n",
    "    time_frame='day',\n",
    "    target_calories=2000,\n",
    "    diet='vegetarian',\n",
    "    exclude='shellfish, olives'\n",
    ")\n",
    "\n",
    "# Display the meal plan\n",
    "display_meal_plan(meal_plan)"
   ]
  },
  {
   "cell_type": "markdown",
   "id": "e3ef8dcd",
   "metadata": {},
   "source": [
    "## Suggesting Recipes"
   ]
  },
  {
   "cell_type": "markdown",
   "id": "c0250dbc",
   "metadata": {},
   "source": [
    "Suggest recipes based on ingredients users have on hand, this function is useful to help reduce food waste and facilitating convenient cooking."
   ]
  },
  {
   "cell_type": "code",
   "execution_count": 21,
   "id": "2e729483",
   "metadata": {},
   "outputs": [],
   "source": [
    "from recipes_search.search_by_ingredients import search_recipes_by_ingredients"
   ]
  },
  {
   "cell_type": "code",
   "execution_count": 22,
   "id": "dfc15516",
   "metadata": {},
   "outputs": [
    {
     "name": "stdout",
     "output_type": "stream",
     "text": [
      "Recipe: Apple Pie with PB&J Streusel\n",
      "Used Ingredients: [{'id': 1109003, 'amount': 1.0, 'unit': '', 'unitLong': '', 'unitShort': '', 'aisle': 'Produce', 'name': 'gala apple', 'original': '1 gala apple', 'originalName': 'gala apple', 'meta': [], 'image': 'https://spoonacular.com/cdn/ingredients_100x100/apple.jpg'}, {'id': 1089003, 'amount': 1.0, 'unit': '', 'unitLong': '', 'unitShort': '', 'aisle': 'Produce', 'name': 'granny smith apple', 'original': '1 granny smith apple', 'originalName': 'granny smith apple', 'meta': [], 'image': 'https://spoonacular.com/cdn/ingredients_100x100/grannysmith-apple.png'}]\n",
      "Missed Ingredients: [{'id': 2010, 'amount': 0.75, 'unit': 'teaspoon', 'unitLong': 'teaspoons', 'unitShort': 'tsp', 'aisle': 'Spices and Seasonings', 'name': 'cinnamon', 'original': '3/4 teaspoon cinnamon', 'originalName': 'cinnamon', 'meta': [], 'image': 'https://spoonacular.com/cdn/ingredients_100x100/cinnamon.jpg'}, {'id': 9152, 'amount': 1.0, 'unit': 'tablespoon', 'unitLong': 'tablespoon', 'unitShort': 'Tbsp', 'aisle': 'Produce', 'name': 'lemon juice', 'original': '1 tablespoon lemon juice', 'originalName': 'lemon juice', 'meta': [], 'image': 'https://spoonacular.com/cdn/ingredients_100x100/lemon-juice.jpg'}, {'id': 2025, 'amount': 4.0, 'unit': 'g', 'unitLong': 'grams', 'unitShort': 'g', 'aisle': 'Spices and Seasonings', 'name': 'nutmeg', 'original': '1/2 teaspoon nutmeg (4 g)', 'originalName': '1/2 teaspoon nutmeg', 'meta': [], 'image': 'https://spoonacular.com/cdn/ingredients_100x100/ground-nutmeg.jpg'}, {'id': 1145, 'amount': 6.0, 'unit': 'tablespoons', 'unitLong': 'tablespoons', 'unitShort': 'Tbsp', 'aisle': 'Milk, Eggs, Other Dairy', 'name': 'butter', 'original': '3/4 stick (6 tablespoons) unsalted butter, melted', 'originalName': '3/4 stick unsalted butter, melted', 'meta': ['unsalted', 'melted'], 'extendedName': 'unsalted butter', 'image': 'https://spoonacular.com/cdn/ingredients_100x100/butter-sliced.jpg'}]\n",
      "\n",
      "Recipe: Cranberry Apple Crisp\n",
      "Used Ingredients: [{'id': 1089003, 'amount': 4.0, 'unit': 'cups', 'unitLong': 'cups', 'unitShort': 'cup', 'aisle': 'Produce', 'name': 'granny smith apples', 'original': '4 cups Granny Smith apples, chopped into ½ inch chunks', 'originalName': 'Granny Smith apples, chopped into ½ inch chunks', 'meta': ['chopped'], 'image': 'https://spoonacular.com/cdn/ingredients_100x100/grannysmith-apple.png'}]\n",
      "Missed Ingredients: [{'id': 9078, 'amount': 2.0, 'unit': 'cups', 'unitLong': 'cups', 'unitShort': 'cup', 'aisle': 'Produce', 'name': 'cranberries', 'original': '2 cups fresh cranberries', 'originalName': 'fresh cranberries', 'meta': ['fresh'], 'extendedName': 'fresh cranberries', 'image': 'https://spoonacular.com/cdn/ingredients_100x100/cranberries.jpg'}, {'id': 1145, 'amount': 4.0, 'unit': 'Tbs', 'unitLong': 'Tbs', 'unitShort': 'Tbs', 'aisle': 'Milk, Eggs, Other Dairy', 'name': 'butter', 'original': '1/2 stick (4 Tbs) unsalted butter, cut into cubes', 'originalName': '1/2 stick unsalted butter, cut into cubes', 'meta': ['unsalted', 'cut into cubes'], 'extendedName': 'unsalted butter', 'image': 'https://spoonacular.com/cdn/ingredients_100x100/butter-sliced.jpg'}, {'id': 8120, 'amount': 1.5, 'unit': 'cups', 'unitLong': 'cups', 'unitShort': 'cup', 'aisle': 'Cereal', 'name': 'regular oats', 'original': '1 1/2 cups regular oats (not quick-cooking)', 'originalName': 'regular oats (not quick-cooking)', 'meta': ['(not quick-cooking)'], 'image': 'https://spoonacular.com/cdn/ingredients_100x100/rolled-oats.jpg'}]\n",
      "\n",
      "Recipe: Apricot Glazed Apple Tart\n",
      "Used Ingredients: [{'id': 1079003, 'amount': 4.0, 'unit': 'large', 'unitLong': 'larges', 'unitShort': 'large', 'aisle': 'Produce', 'name': 'apples', 'original': '4 larges red apples, such as Golden Delicious, peeled, cored and cut into 1/4-inch-thick slices', 'originalName': 's red apples, such as Golden Delicious, peeled, cored and cut into 1/4-inch-thick slices', 'meta': ['red', ' such as golden delicious, peeled, cored and cut into 1/4-inch-thick slices'], 'extendedName': 'red apples', 'image': 'https://spoonacular.com/cdn/ingredients_100x100/red-delicious-apples.png'}]\n",
      "Missed Ingredients: [{'id': 1145, 'amount': 1.5, 'unit': 'sticks', 'unitLong': 'sticks', 'unitShort': 'sticks', 'aisle': 'Milk, Eggs, Other Dairy', 'name': 'butter butter', 'original': '1 1/2 sticks cold unsalted butter cold unsalted butter<', 'originalName': 'cold unsalted butter cold unsalted butter', 'meta': ['unsalted', 'cold'], 'extendedName': 'unsalted butter butter', 'image': 'https://spoonacular.com/cdn/ingredients_100x100/butter-sliced.jpg'}, {'id': 2010, 'amount': 2.0, 'unit': 'teaspoons', 'unitLong': 'teaspoons', 'unitShort': 'tsp', 'aisle': 'Spices and Seasonings', 'name': 'cinnamon', 'original': '2 teaspoons cinnamon', 'originalName': 'cinnamon', 'meta': [], 'image': 'https://spoonacular.com/cdn/ingredients_100x100/cinnamon.jpg'}, {'id': 19719, 'amount': 2.0, 'unit': 'tablespoons', 'unitLong': 'tablespoons', 'unitShort': 'Tbsp', 'aisle': 'Nut butters, Jams, and Honey', 'name': 'apricot preserves', 'original': '2 tablespoons apricot preserves, melted and strained', 'originalName': 'apricot preserves, melted and strained', 'meta': ['melted'], 'image': 'https://spoonacular.com/cdn/ingredients_100x100/apricot-jam.jpg'}]\n",
      "\n",
      "Recipe: Easy & Delish! ~ Apple Crumble\n",
      "Used Ingredients: [{'id': 9003, 'amount': 3.0, 'unit': '', 'unitLong': '', 'unitShort': '', 'aisle': 'Produce', 'name': 'apples', 'original': '3 apples – sliced', 'originalName': 'apples – sliced', 'meta': ['sliced'], 'image': 'https://spoonacular.com/cdn/ingredients_100x100/apple.jpg'}]\n",
      "Missed Ingredients: [{'id': 1001, 'amount': 0.75, 'unit': 'stick', 'unitLong': 'sticks', 'unitShort': 'stick', 'aisle': 'Milk, Eggs, Other Dairy', 'name': 'butter', 'original': '3/4 stick of butter', 'originalName': 'butter', 'meta': [], 'image': 'https://spoonacular.com/cdn/ingredients_100x100/butter-sliced.jpg'}, {'id': 2011, 'amount': 1.0, 'unit': 'Dash', 'unitLong': 'Dash', 'unitShort': 'Dash', 'aisle': 'Spices and Seasonings', 'name': 'ground cloves', 'original': 'Dash of ground cloves', 'originalName': 'ground cloves', 'meta': [], 'image': 'https://spoonacular.com/cdn/ingredients_100x100/cloves.jpg'}, {'id': 9156, 'amount': 1.0, 'unit': '', 'unitLong': '', 'unitShort': '', 'aisle': 'Produce', 'name': 'lemon zest', 'original': '1 Zest of lemon', 'originalName': 'Zest of lemon', 'meta': [], 'image': 'https://spoonacular.com/cdn/ingredients_100x100/zest-lemon.jpg'}]\n",
      "\n",
      "Recipe: Apple Or Peach Strudel\n",
      "Used Ingredients: [{'id': 9003, 'amount': 6.0, 'unit': 'large', 'unitLong': 'larges', 'unitShort': 'large', 'aisle': 'Produce', 'name': 'baking apples', 'original': '6 large baking apples', 'originalName': 'baking apples', 'meta': [], 'image': 'https://spoonacular.com/cdn/ingredients_100x100/apple.jpg'}]\n",
      "Missed Ingredients: [{'id': 18369, 'amount': 1.0, 'unit': 'tsp', 'unitLong': 'teaspoon', 'unitShort': 'tsp', 'aisle': 'Baking', 'name': 'baking powder', 'original': '1 tsp baking powder', 'originalName': 'baking powder', 'meta': [], 'image': 'https://spoonacular.com/cdn/ingredients_100x100/white-powder.jpg'}, {'id': 2010, 'amount': 1.0, 'unit': 'tsp', 'unitLong': 'teaspoon', 'unitShort': 'tsp', 'aisle': 'Spices and Seasonings', 'name': 'cinnamon', 'original': '1 tsp cinnamon', 'originalName': 'cinnamon', 'meta': [], 'image': 'https://spoonacular.com/cdn/ingredients_100x100/cinnamon.jpg'}, {'id': 1123, 'amount': 1.0, 'unit': '', 'unitLong': '', 'unitShort': '', 'aisle': 'Milk, Eggs, Other Dairy', 'name': 'egg', 'original': '1 egg', 'originalName': 'egg', 'meta': [], 'image': 'https://spoonacular.com/cdn/ingredients_100x100/egg.png'}]\n",
      "\n",
      "Recipe: Easy Homemade Apple Fritters\n",
      "Used Ingredients: [{'id': 9003, 'amount': 1.0, 'unit': 'cup', 'unitLong': 'cup', 'unitShort': 'cup', 'aisle': 'Produce', 'name': 'apple', 'original': '1 cup chopped apple', 'originalName': 'chopped apple', 'meta': ['chopped'], 'image': 'https://spoonacular.com/cdn/ingredients_100x100/apple.jpg'}]\n",
      "Missed Ingredients: [{'id': 18369, 'amount': 1.5, 'unit': 'teaspoons', 'unitLong': 'teaspoons', 'unitShort': 'tsp', 'aisle': 'Baking', 'name': 'baking powder', 'original': '1 1/2 teaspoons baking powder', 'originalName': 'baking powder', 'meta': [], 'image': 'https://spoonacular.com/cdn/ingredients_100x100/white-powder.jpg'}, {'id': 2010, 'amount': 1.0, 'unit': 'teaspoon', 'unitLong': 'teaspoon', 'unitShort': 'tsp', 'aisle': 'Spices and Seasonings', 'name': 'cinnamon', 'original': '1 teaspoon cinnamon', 'originalName': 'cinnamon', 'meta': [], 'image': 'https://spoonacular.com/cdn/ingredients_100x100/cinnamon.jpg'}, {'id': 1123, 'amount': 1.0, 'unit': '', 'unitLong': '', 'unitShort': '', 'aisle': 'Milk, Eggs, Other Dairy', 'name': 'egg', 'original': '1 egg', 'originalName': 'egg', 'meta': [], 'image': 'https://spoonacular.com/cdn/ingredients_100x100/egg.png'}, {'id': 1077, 'amount': 0.33333334, 'unit': 'cup', 'unitLong': 'cups', 'unitShort': 'cup', 'aisle': 'Milk, Eggs, Other Dairy', 'name': 'milk', 'original': '1/3 cup milk', 'originalName': 'milk', 'meta': [], 'image': 'https://spoonacular.com/cdn/ingredients_100x100/milk.png'}]\n",
      "\n",
      "Recipe: Apple Cinnamon Blondies\n",
      "Used Ingredients: [{'id': 9003, 'amount': 0.5, 'unit': 'cup', 'unitLong': 'cups', 'unitShort': 'cup', 'aisle': 'Produce', 'name': 'apple', 'original': '1/2 cup apple, finely diced', 'originalName': 'apple, finely diced', 'meta': ['diced', 'finely'], 'extendedName': 'diced apple', 'image': 'https://spoonacular.com/cdn/ingredients_100x100/apple.jpg'}]\n",
      "Missed Ingredients: [{'id': 1001, 'amount': 0.5, 'unit': 'cup', 'unitLong': 'cups', 'unitShort': 'cup', 'aisle': 'Milk, Eggs, Other Dairy', 'name': 'butter', 'original': '1/2 cup butter, melted', 'originalName': 'butter, melted', 'meta': ['melted'], 'image': 'https://spoonacular.com/cdn/ingredients_100x100/butter-sliced.jpg'}, {'id': 2010, 'amount': 1.0, 'unit': 'tsp', 'unitLong': 'teaspoon', 'unitShort': 'tsp', 'aisle': 'Spices and Seasonings', 'name': 'cinnamon', 'original': '1 tsp. cinnamon', 'originalName': 'cinnamon', 'meta': [], 'image': 'https://spoonacular.com/cdn/ingredients_100x100/cinnamon.jpg'}, {'id': 1123, 'amount': 1.0, 'unit': '', 'unitLong': '', 'unitShort': '', 'aisle': 'Milk, Eggs, Other Dairy', 'name': 'egg', 'original': '1 egg', 'originalName': 'egg', 'meta': [], 'image': 'https://spoonacular.com/cdn/ingredients_100x100/egg.png'}, {'id': 1052050, 'amount': 1.0, 'unit': 'tsp', 'unitLong': 'teaspoon', 'unitShort': 'tsp', 'aisle': 'Baking', 'name': 'vanilla', 'original': '1 tsp. vanilla (paste or extract)', 'originalName': 'vanilla (paste or extract)', 'meta': ['(paste or extract)'], 'image': 'https://spoonacular.com/cdn/ingredients_100x100/vanilla.jpg'}]\n",
      "\n",
      "Recipe: Vegan Baked Apples with Oat Crumble\n",
      "Used Ingredients: [{'id': 9003, 'amount': 3.0, 'unit': '', 'unitLong': '', 'unitShort': '', 'aisle': 'Produce', 'name': 'apples', 'original': '3 apples, cored and halved horizontally', 'originalName': 'apples, cored and halved horizontally', 'meta': ['cored', 'halved'], 'image': 'https://spoonacular.com/cdn/ingredients_100x100/apple.jpg'}]\n",
      "Missed Ingredients: [{'id': 2010, 'amount': 0.5, 'unit': 'tsp', 'unitLong': 'teaspoons', 'unitShort': 'tsp', 'aisle': 'Spices and Seasonings', 'name': 'cinnamon', 'original': '½ tsp. cinnamon', 'originalName': 'cinnamon', 'meta': [], 'image': 'https://spoonacular.com/cdn/ingredients_100x100/cinnamon.jpg'}, {'id': 10414037, 'amount': 3.0, 'unit': 'tbsp', 'unitLong': 'tablespoons', 'unitShort': 'Tbsp', 'aisle': 'Alcoholic Beverages', 'name': 'cognac', 'original': '3 tbsp. cognac', 'originalName': 'cognac', 'meta': [], 'image': 'https://spoonacular.com/cdn/ingredients_100x100/cognac.jpg'}, {'id': 2025, 'amount': 0.25, 'unit': 'tsp', 'unitLong': 'teaspoons', 'unitShort': 'tsp', 'aisle': 'Spices and Seasonings', 'name': 'nutmeg', 'original': '¼ tsp. nutmeg', 'originalName': 'nutmeg', 'meta': [], 'image': 'https://spoonacular.com/cdn/ingredients_100x100/ground-nutmeg.jpg'}, {'id': 8120, 'amount': 1.0, 'unit': 'cup', 'unitLong': 'cup', 'unitShort': 'cup', 'aisle': 'Cereal', 'name': 'oats', 'original': '1 cup whole oats', 'originalName': 'whole oats', 'meta': ['whole'], 'extendedName': 'whole oats', 'image': 'https://spoonacular.com/cdn/ingredients_100x100/rolled-oats.jpg'}]\n",
      "\n",
      "Recipe: Grand Apple and Cinnamon Biscuits\n",
      "Used Ingredients: [{'id': 1089003, 'amount': 2.0, 'unit': '', 'unitLong': '', 'unitShort': '', 'aisle': 'Produce', 'name': 'granny smith apples', 'original': '2 Granny Smith Apples (or your favorite type of apple)', 'originalName': 'Granny Smith Apples (or your favorite type of apple)', 'meta': ['your favorite', '(or type of apple)'], 'image': 'https://spoonacular.com/cdn/ingredients_100x100/grannysmith-apple.png'}]\n",
      "Missed Ingredients: [{'id': 18369, 'amount': 1.0, 'unit': 'Tbsp', 'unitLong': 'Tbsp', 'unitShort': 'Tbsp', 'aisle': 'Baking', 'name': 'baking powder', 'original': '1 Tbsp baking powder', 'originalName': 'baking powder', 'meta': [], 'image': 'https://spoonacular.com/cdn/ingredients_100x100/white-powder.jpg'}, {'id': 1001, 'amount': 0.33333334, 'unit': 'cup', 'unitLong': 'cups', 'unitShort': 'cup', 'aisle': 'Milk, Eggs, Other Dairy', 'name': 'butter', 'original': '1/3 cup softened butter', 'originalName': 'softened butter', 'meta': ['softened'], 'image': 'https://spoonacular.com/cdn/ingredients_100x100/butter-sliced.jpg'}, {'id': 1077, 'amount': 1.0, 'unit': 'cup', 'unitLong': 'cup', 'unitShort': 'cup', 'aisle': 'Milk, Eggs, Other Dairy', 'name': 'milk', 'original': '1 cup milk', 'originalName': 'milk', 'meta': [], 'image': 'https://spoonacular.com/cdn/ingredients_100x100/milk.png'}, {'id': 93784, 'amount': 4.0, 'unit': 'servings', 'unitLong': 'servings', 'unitShort': 'servings', 'aisle': 'Baking', 'name': 'syrup', 'original': 'Syrup', 'originalName': 'Syrup', 'meta': [], 'image': 'https://spoonacular.com/cdn/ingredients_100x100/corn-syrup.png'}]\n",
      "\n",
      "Recipe: Apple Pie\n",
      "Used Ingredients: [{'id': 1089003, 'amount': 13.0, 'unit': 'large', 'unitLong': 'larges', 'unitShort': 'large', 'aisle': 'Produce', 'name': 'granny smith apples', 'original': '13 large granny smith apples', 'originalName': 'granny smith apples', 'meta': [], 'image': 'https://spoonacular.com/cdn/ingredients_100x100/grannysmith-apple.png'}]\n",
      "Missed Ingredients: [{'id': 1001, 'amount': 1.0, 'unit': 'teaspoon', 'unitLong': 'teaspoon', 'unitShort': 'tsp', 'aisle': 'Milk, Eggs, Other Dairy', 'name': 'butter', 'original': '1 teaspoon butter, slightly softened', 'originalName': 'butter, slightly softened', 'meta': ['softened'], 'image': 'https://spoonacular.com/cdn/ingredients_100x100/butter-sliced.jpg'}, {'id': 2010, 'amount': 0.5, 'unit': 'teaspoon', 'unitLong': 'teaspoons', 'unitShort': 'tsp', 'aisle': 'Spices and Seasonings', 'name': 'cinnamon', 'original': '1/2 teaspoon cinnamon', 'originalName': 'cinnamon', 'meta': [], 'image': 'https://spoonacular.com/cdn/ingredients_100x100/cinnamon.jpg'}, {'id': 9152, 'amount': 8.0, 'unit': 'servings', 'unitLong': 'servings', 'unitShort': 'servings', 'aisle': 'Produce', 'name': 'lemon juice', 'original': 'lemon juice', 'originalName': 'lemon juice', 'meta': [], 'image': 'https://spoonacular.com/cdn/ingredients_100x100/lemon-juice.jpg'}, {'id': 2025, 'amount': 0.5, 'unit': 'teaspoon', 'unitLong': 'teaspoons', 'unitShort': 'tsp', 'aisle': 'Spices and Seasonings', 'name': 'nutmeg', 'original': '1/2 teaspoon nutmeg', 'originalName': 'nutmeg', 'meta': [], 'image': 'https://spoonacular.com/cdn/ingredients_100x100/ground-nutmeg.jpg'}, {'id': 18334, 'amount': 2.0, 'unit': '', 'unitLong': '', 'unitShort': '', 'aisle': 'Refrigerated', 'name': 'pie crusts', 'original': '2 Pie Crusts', 'originalName': 'Pie Crusts', 'meta': [], 'image': 'https://spoonacular.com/cdn/ingredients_100x100/pie-crust.jpg'}]\n",
      "\n"
     ]
    }
   ],
   "source": [
    "# Usage Example\n",
    "# To get start, input what you have on hand as \"ingredients\"\n",
    "ingredients = 'apples,flour,sugar'\n",
    "recipes = search_recipes_by_ingredients(api_key, ingredients)\n",
    "for recipe in recipes:\n",
    "    print(f\"Recipe: {recipe['title']}\\nUsed Ingredients: {recipe['usedIngredients']}\\nMissed Ingredients: {recipe['missedIngredients']}\\n\")\n",
    "\n",
    "# The function will generate some suggestions for you and if there's one you would like to try, copy the recipe id,\n",
    "# then you can simply use the get instructions function that was shown above to generate the instructions for the recipe"
   ]
  },
  {
   "cell_type": "code",
   "execution_count": null,
   "id": "d56240ab",
   "metadata": {},
   "outputs": [],
   "source": []
  },
  {
   "cell_type": "code",
   "execution_count": null,
   "id": "e784ef42",
   "metadata": {},
   "outputs": [],
   "source": []
  },
  {
   "cell_type": "code",
   "execution_count": null,
   "id": "8d6dcf1f",
   "metadata": {},
   "outputs": [],
   "source": []
  }
 ],
 "metadata": {
  "kernelspec": {
   "display_name": "Python 3 (ipykernel)",
   "language": "python",
   "name": "python3"
  },
  "language_info": {
   "codemirror_mode": {
    "name": "ipython",
    "version": 3
   },
   "file_extension": ".py",
   "mimetype": "text/x-python",
   "name": "python",
   "nbconvert_exporter": "python",
   "pygments_lexer": "ipython3",
   "version": "3.9.7"
  }
 },
 "nbformat": 4,
 "nbformat_minor": 5
}
